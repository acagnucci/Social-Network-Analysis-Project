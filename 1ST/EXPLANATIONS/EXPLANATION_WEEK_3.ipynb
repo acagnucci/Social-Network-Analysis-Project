{
 "cells": [
  {
   "attachments": {},
   "cell_type": "markdown",
   "metadata": {},
   "source": [
    "# Week 3 Code Explanation\n",
    "\n"
   ]
  },
  {
   "attachments": {},
   "cell_type": "markdown",
   "metadata": {},
   "source": [
    "# Importing Libraries and Data:\n",
    "This block imports the required libraries (presumably pandas and networkx) and reads the edge and node data from CSV files (edges.csv and nodes.csv).\n"
   ]
  },
  {
   "cell_type": "code",
   "execution_count": null,
   "metadata": {
    "vscode": {
     "languageId": "plaintext"
    }
   },
   "outputs": [],
   "source": [
    "#IMPORTING DATABASE\n",
    "\n",
    "edges_filename = \"./edges.csv\"\n",
    "nodes_filename = \"./nodes.csv\"\n",
    "\n",
    "df_edges = pd.read_csv(edges_filename)\n",
    "df_nodes = pd.read_csv(nodes_filename)\n"
   ]
  },
  {
   "attachments": {},
   "cell_type": "markdown",
   "metadata": {},
   "source": [
    "# Creating a Graph:\n",
    "This block uses the NetworkX library to create a graph (G) from the edge list (df_edges).\n"
   ]
  },
  {
   "cell_type": "code",
   "execution_count": null,
   "metadata": {
    "vscode": {
     "languageId": "plaintext"
    }
   },
   "outputs": [],
   "source": [
    "# Create the graph using the edges CSV, same as WEEK 1\n",
    "G = nx.from_pandas_edgelist(df_edges, '# source', ' target')  # Adjusted column name\n"
   ]
  },
  {
   "attachments": {},
   "cell_type": "markdown",
   "metadata": {},
   "source": [
    "# Computing Closeness Centrality:\n",
    "- This block defines a function (compute_closeness_centrality) to calculate closeness centrality for each node in the graph using the networkx library.\n",
    "- The computed closeness centrality values are stored in closeness_centrality_values.\n",
    "- The most central node based on closeness centrality is determined and stored in most_central_node_closeness."
   ]
  },
  {
   "cell_type": "code",
   "execution_count": null,
   "metadata": {
    "vscode": {
     "languageId": "plaintext"
    }
   },
   "outputs": [],
   "source": [
    "# Closeness Centrality\n",
    "def compute_closeness_centrality(graph):\n",
    "    # ... (see explanation below)\n",
    "    return closeness_centrality\n",
    "\n",
    "closeness_centrality_values = compute_closeness_centrality(G)\n",
    "most_central_node_closeness = max(closeness_centrality_values, key=closeness_centrality_values.get)\n"
   ]
  },
  {
   "attachments": {},
   "cell_type": "markdown",
   "metadata": {},
   "source": [
    "# Cumulative Distribution Visualization:\n",
    "- This block defines a function (plot_cumulative_distribution) for visualizing the cumulative distribution of centrality values.\n",
    "- The function uses numpy and matplotlib to calculate and plot the cumulative distribution.\n",
    "- Finally, the function is called with closeness centrality values and a title for the plot.- "
   ]
  },
  {
   "cell_type": "code",
   "execution_count": null,
   "metadata": {
    "vscode": {
     "languageId": "plaintext"
    }
   },
   "outputs": [],
   "source": [
    "# Cumulative Distribution Visualization\n",
    "import numpy as np\n",
    "import matplotlib.pyplot as plt\n",
    "\n",
    "def plot_cumulative_distribution(values, title):\n",
    "    # ... (see explanation below)\n",
    "    plt.show()\n",
    "\n",
    "plot_cumulative_distribution(closeness_centrality_values.values(), 'Cumulative Distribution of Closeness Centrality')\n"
   ]
  },
  {
   "attachments": {},
   "cell_type": "markdown",
   "metadata": {},
   "source": [
    "# Explanation for the Function compute_closeness_centrality:\n",
    "- This function calculates the closeness centrality for each node in the graph.\n",
    "- It iterates over each node in the graph and computes the total distance to all other nodes using the shortest path length.\n",
    "- The closeness centrality is then calculated using the formula num_nodes / total_distance, excluding the node itself.\n",
    "- The resulting closeness centrality values are stored in a dictionary (closeness_centrality) and returned by the function."
   ]
  },
  {
   "cell_type": "code",
   "execution_count": null,
   "metadata": {
    "vscode": {
     "languageId": "plaintext"
    }
   },
   "outputs": [],
   "source": [
    "def compute_closeness_centrality(graph):\n",
    "    closeness_centrality = {}\n",
    "    for node in graph.nodes():\n",
    "        total_distance = sum(nx.shortest_path_length(graph, node, target) for target in graph.nodes() if target != node)\n",
    "        num_nodes = len(graph.nodes()) - 1  # Excluding the node itself\n",
    "        closeness_centrality[node] = num_nodes / total_distance if total_distance != 0 else 0\n",
    "    return closeness_centrality\n"
   ]
  }
 ],
 "metadata": {
  "kernelspec": {
   "display_name": "Python 3",
   "language": "python",
   "name": "python3"
  },
  "language_info": {
   "codemirror_mode": {
    "name": "ipython",
    "version": 3
   },
   "file_extension": ".py",
   "mimetype": "text/x-python",
   "name": "python",
   "nbconvert_exporter": "python",
   "pygments_lexer": "ipython3",
   "version": "3.11.6"
  }
 },
 "nbformat": 4,
 "nbformat_minor": 2
}
