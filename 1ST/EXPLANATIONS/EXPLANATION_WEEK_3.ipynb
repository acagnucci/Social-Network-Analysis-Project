{
 "cells": [
  {
   "attachments": {},
   "cell_type": "markdown",
   "metadata": {},
   "source": [
    "# Week 3 Code Explanation\n",
    "\n"
   ]
  },
  {
   "attachments": {},
   "cell_type": "markdown",
   "metadata": {},
   "source": [
    "# Importing Libraries and Data:\n",
    "This block imports the required libraries (presumably pandas and networkx) and reads the edge and node data from CSV files (edges.csv and nodes.csv).\n"
   ]
  },
  {
   "cell_type": "code",
   "execution_count": 9,
   "metadata": {},
   "outputs": [],
   "source": [
    "#IMPORTING DATABASE\n",
    "\n",
    "import pandas as pd\n",
    "import networkx as nx\n",
    "import matplotlib.pyplot as plt\n",
    "import numpy as np\n",
    "\n",
    "\n",
    "edges_filename = \"./edges.csv\"\n",
    "nodes_filename = \"./nodes.csv\"\n",
    "\n",
    "df_edges = pd.read_csv(edges_filename)\n",
    "df_nodes = pd.read_csv(nodes_filename)\n"
   ]
  },
  {
   "attachments": {},
   "cell_type": "markdown",
   "metadata": {},
   "source": [
    "# Creating a Graph:\n",
    "This block uses the NetworkX library to create a graph (G) from the edge list (df_edges).\n"
   ]
  },
  {
   "cell_type": "code",
   "execution_count": 10,
   "metadata": {},
   "outputs": [],
   "source": [
    "# Create the graph using the edges CSV, same as WEEK 1\n",
    "G = nx.from_pandas_edgelist(df_edges, '# source', ' target')  # Adjusted column name\n"
   ]
  },
  {
   "attachments": {},
   "cell_type": "markdown",
   "metadata": {},
   "source": [
    "# Computing Closeness Centrality:\n",
    "- This block defines a function (compute_closeness_centrality) to calculate closeness centrality for each node in the graph using the networkx library.\n",
    "- The computed closeness centrality values are stored in closeness_centrality_values.\n",
    "- The most central node based on closeness centrality is determined and stored in most_central_node_closeness."
   ]
  },
  {
   "cell_type": "code",
   "execution_count": 13,
   "metadata": {},
   "outputs": [],
   "source": [
    "# Closeness Centrality\n",
    "def compute_closeness_centrality(graph):\n",
    "    closeness_centrality = {}\n",
    "    for node in graph.nodes():\n",
    "        total_distance = sum(nx.shortest_path_length(graph, node, target) for target in graph.nodes() if target != node)\n",
    "        num_nodes = len(graph.nodes()) - 1  # Excluding the node itself\n",
    "        closeness_centrality[node] = num_nodes / total_distance if total_distance != 0 else 0\n",
    "    return closeness_centrality\n",
    "\n",
    "closeness_centrality_values = compute_closeness_centrality(G)\n",
    "most_central_node_closeness = max(closeness_centrality_values, key=closeness_centrality_values.get)\n"
   ]
  },
  {
   "attachments": {},
   "cell_type": "markdown",
   "metadata": {},
   "source": [
    "# Cumulative Distribution Visualization:\n",
    "- This block defines a function (plot_cumulative_distribution) for visualizing the cumulative distribution of centrality values.\n",
    "- The function uses numpy and matplotlib to calculate and plot the cumulative distribution.\n",
    "- Finally, the function is called with closeness centrality values and a title for the plot.- "
   ]
  },
  {
   "cell_type": "code",
   "execution_count": 12,
   "metadata": {},
   "outputs": [
    {
     "ename": "NameError",
     "evalue": "name 'closeness_centrality_values' is not defined",
     "output_type": "error",
     "traceback": [
      "\u001b[1;31m---------------------------------------------------------------------------\u001b[0m",
      "\u001b[1;31mNameError\u001b[0m                                 Traceback (most recent call last)",
      "\u001b[1;32mc:\\Users\\santi\\OneDrive\\Desktop\\AI\\SNA-Project\\1ST\\EXPLANATIONS\\EXPLANATION_WEEK_3.ipynb Cell 9\u001b[0m line \u001b[0;36m9\n\u001b[0;32m      <a href='vscode-notebook-cell:/c%3A/Users/santi/OneDrive/Desktop/AI/SNA-Project/1ST/EXPLANATIONS/EXPLANATION_WEEK_3.ipynb#X11sZmlsZQ%3D%3D?line=4'>5</a>\u001b[0m \u001b[39mdef\u001b[39;00m \u001b[39mplot_cumulative_distribution\u001b[39m(values, title):\n\u001b[0;32m      <a href='vscode-notebook-cell:/c%3A/Users/santi/OneDrive/Desktop/AI/SNA-Project/1ST/EXPLANATIONS/EXPLANATION_WEEK_3.ipynb#X11sZmlsZQ%3D%3D?line=5'>6</a>\u001b[0m     \u001b[39m# ... (see explanation below)\u001b[39;00m\n\u001b[0;32m      <a href='vscode-notebook-cell:/c%3A/Users/santi/OneDrive/Desktop/AI/SNA-Project/1ST/EXPLANATIONS/EXPLANATION_WEEK_3.ipynb#X11sZmlsZQ%3D%3D?line=6'>7</a>\u001b[0m     plt\u001b[39m.\u001b[39mshow()\n\u001b[1;32m----> <a href='vscode-notebook-cell:/c%3A/Users/santi/OneDrive/Desktop/AI/SNA-Project/1ST/EXPLANATIONS/EXPLANATION_WEEK_3.ipynb#X11sZmlsZQ%3D%3D?line=8'>9</a>\u001b[0m plot_cumulative_distribution(closeness_centrality_values\u001b[39m.\u001b[39mvalues(), \u001b[39m'\u001b[39m\u001b[39mCumulative Distribution of Closeness Centrality\u001b[39m\u001b[39m'\u001b[39m)\n",
      "\u001b[1;31mNameError\u001b[0m: name 'closeness_centrality_values' is not defined"
     ]
    }
   ],
   "source": [
    "# Cumulative Distribution Visualization\n",
    "import numpy as np\n",
    "import matplotlib.pyplot as plt\n",
    "\n",
    "def plot_cumulative_distribution(values, title):\n",
    "    sorted_values = np.sort(list(values))\n",
    "    yvals = np.arange(1, len(sorted_values) + 1) / float(len(sorted_values))\n",
    "    \n",
    "    plt.figure(figsize=(10, 7))\n",
    "    plt.plot(sorted_values, 1 - yvals, marker='o', linestyle='-', markersize=4)\n",
    "    plt.yscale('log')\n",
    "    plt.xscale('log')\n",
    "    plt.title(title)\n",
    "    plt.xlabel('Centrality Value')\n",
    "    plt.ylabel('Fraction of Nodes with Higher Centrality')\n",
    "    plt.grid(True, which=\"both\", ls=\"--\", linewidth=0.5)\n",
    "    plt.show()\n",
    "\n",
    "plot_cumulative_distribution(closeness_centrality_values.values(), 'Cumulative Distribution of Closeness Centrality')\n"
   ]
  },
  {
   "attachments": {},
   "cell_type": "markdown",
   "metadata": {},
   "source": [
    "# Explanation for the Function compute_closeness_centrality:\n",
    "- This function calculates the closeness centrality for each node in the graph.\n",
    "- It iterates over each node in the graph and computes the total distance to all other nodes using the shortest path length.\n",
    "- The closeness centrality is then calculated using the formula num_nodes / total_distance, excluding the node itself.\n",
    "- The resulting closeness centrality values are stored in a dictionary (closeness_centrality) and returned by the function."
   ]
  },
  {
   "cell_type": "code",
   "execution_count": null,
   "metadata": {},
   "outputs": [],
   "source": [
    "def compute_closeness_centrality(graph):\n",
    "    closeness_centrality = {}\n",
    "    for node in graph.nodes():\n",
    "        total_distance = sum(nx.shortest_path_length(graph, node, target) for target in graph.nodes() if target != node)\n",
    "        num_nodes = len(graph.nodes()) - 1  # Excluding the node itself\n",
    "        closeness_centrality[node] = num_nodes / total_distance if total_distance != 0 else 0\n",
    "    return closeness_centrality\n"
   ]
  }
 ],
 "metadata": {
  "kernelspec": {
   "display_name": "Python 3",
   "language": "python",
   "name": "python3"
  },
  "language_info": {
   "codemirror_mode": {
    "name": "ipython",
    "version": 3
   },
   "file_extension": ".py",
   "mimetype": "text/x-python",
   "name": "python",
   "nbconvert_exporter": "python",
   "pygments_lexer": "ipython3",
   "version": "3.10.11"
  }
 },
 "nbformat": 4,
 "nbformat_minor": 2
}
