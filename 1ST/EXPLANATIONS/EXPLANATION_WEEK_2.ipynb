{
 "cells": [
  {
   "attachments": {},
   "cell_type": "markdown",
   "metadata": {},
   "source": [
    "# Explanation for each peace of code of WEEK 2 team AA"
   ]
  },
  {
   "cell_type": "code",
   "execution_count": 1,
   "metadata": {},
   "outputs": [],
   "source": [
    "import random\n",
    "import networkx as nx\n",
    "import matplotlib.pyplot as plt\n",
    "import numpy as np\n",
    "import pandas as pd"
   ]
  },
  {
   "attachments": {},
   "cell_type": "markdown",
   "metadata": {},
   "source": [
    " # Here We are creating the Graph:\n",
    " \n",
    "This line uses the from_pandas_edgelist function from NetworkX to create a graph (G) from the edge DataFrame (edges_df). \n",
    "The source and target parameters specify the columns in the DataFrame representing the source and target nodes of each edge."
   ]
  },
  {
   "cell_type": "code",
   "execution_count": null,
   "metadata": {},
   "outputs": [],
   "source": [
    "G = nx.from_pandas_edgelist(edges_df, source='# source', target='target')"
   ]
  },
  {
   "attachments": {},
   "cell_type": "markdown",
   "metadata": {},
   "source": [
    "# Extracting the Largest Connected Component:\n",
    "\n",
    "In this block, the code identifies the largest connected component in the graph (G) using the connected_components function from NetworkX. The max function is used to find the largest connected component based on the number of nodes (key=len). Then, a subgraph (G_main) is created, containing only the nodes and edges of the largest connected component.\n"
   ]
  },
  {
   "cell_type": "code",
   "execution_count": null,
   "metadata": {},
   "outputs": [],
   "source": [
    "largest_cc = max(nx.connected_components(G), key=len)\n",
    "G_main = G.subgraph(largest_cc)\n"
   ]
  },
  {
   "attachments": {},
   "cell_type": "markdown",
   "metadata": {},
   "source": [
    "# Custom Functions for Clustering and Transitivity:\n",
    "\n",
    "This block defines three custom functions:\n",
    "1- clustering(G, node): Calculates the clustering coefficient for a given node in the graph.\n",
    "2- average_clustering(G): Computes the average clustering coefficient for the entire graph.\n",
    "3- custom_transitivity(G): Computes the transitivity of the graph using basic functions of NetworkX.\n",
    "\n",
    "* I WILL EXPLAIN EVERYONE OF THEM IN DETAILS IN THE FOLLOWING BLOCKS"
   ]
  },
  {
   "cell_type": "code",
   "execution_count": null,
   "metadata": {},
   "outputs": [],
   "source": [
    "def clustering(G, node):\n",
    "    # ... (function implementation)\n",
    "\n",
    "def average_clustering(G):\n",
    "    # ... (function implementation)\n",
    "\n",
    "def custom_transitivity(G):\n",
    "    # ... (function implementation)\n"
   ]
  },
  {
   "attachments": {},
   "cell_type": "markdown",
   "metadata": {},
   "source": [
    "# Function 1: clustering(G, node):\n",
    "\n",
    "- G: The input parameter is the graph.\n",
    "- node: The node for which the clustering coefficient is calculated.\n",
    "\n",
    "1- k = G.degree[node]: Calculates the degree of the node, i.e., the number of edges incident to the node.\n",
    "\n",
    "2- if k == 0 or k == 1:: Checks if the node has zero or one neighbors. In such cases, the clustering coefficient is defined as 0, as there are no triangles possible.\n",
    "\n",
    "3- Otherwise:\n",
    ". List_nodes = [s for s in G.nodes()]: Creates a list of all nodes in the graph.\n",
    ". i = List_nodes.index(node): Finds the index of the current node in the list.\n",
    ". A = nx.adjacency_matrix(G): Computes the adjacency matrix of the graph.\n",
    ". A3 = A**3: Computes the cube of the adjacency matrix.\n",
    ". triangle = A3[i, i] / 2: Extracts the number of triangles centered at the current node. Dividing by 2 to avoid double counting.\n",
    ". den = k * (k - 1) / 2: Calculates the denominator of the clustering coefficient formula.\n",
    ". return triangle / den: Computes and returns the clustering coefficient."
   ]
  },
  {
   "cell_type": "code",
   "execution_count": null,
   "metadata": {},
   "outputs": [],
   "source": [
    "def clustering(G, node):\n",
    "    k = G.degree[node]\n",
    "    if k == 0 or k == 1:\n",
    "        return 0\n",
    "    else:\n",
    "        List_nodes = [s for s in G.nodes()]\n",
    "        i = List_nodes.index(node)\n",
    "        A = nx.adjacency_matrix(G)\n",
    "        A3 = A**3\n",
    "        triangle = A3[i, i] / 2\n",
    "        den = k * (k - 1) / 2\n",
    "        return triangle / den\n"
   ]
  },
  {
   "attachments": {},
   "cell_type": "markdown",
   "metadata": {},
   "source": [
    "# Function 2: average_clustering(G):\n",
    "\n",
    "- G: The input parameter is the graph \n",
    "\n",
    "1- N = G.number_of_nodes(): Gets the total number of nodes in the graph.\n",
    "\n",
    "2- Temp_sum = sum(clustering(G, i) for i in G.nodes()): Calculates the sum of clustering coefficients for all nodes using the previously defined clustering function.\n",
    "\n",
    "3- return Temp_sum / N: Computes and returns the average clustering coefficient by dividing the sum by the total number of nodes.\n"
   ]
  },
  {
   "cell_type": "code",
   "execution_count": null,
   "metadata": {},
   "outputs": [],
   "source": [
    "def average_clustering(G):\n",
    "    N = G.number_of_nodes()\n",
    "    Temp_sum = sum(clustering(G, i) for i in G.nodes())\n",
    "    return Temp_sum / N\n"
   ]
  },
  {
   "attachments": {},
   "cell_type": "markdown",
   "metadata": {},
   "source": [
    "# Function 3: custom_transitivity(G):\n",
    "\n",
    "- G: The input parameter is the graph as usual.\n",
    "\n",
    "1- triangles = sum(nx.triangles(G, node) for node in G.nodes()) / 3: \n",
    "Computes the number of triangles in the graph using NetworkX's triangles function. Divides by 3 to avoid triple counting.\n",
    "\n",
    "2- triplets = sum(d * (d - 1) for n, d in G.degree()) / 2: \n",
    "Calculates the number of triplets in the graph. A triplet is a set of three nodes that are pairwise connected. Divides by 2 to avoid double counting.\n",
    "\n",
    "3- return triangles / triplets if triplets != 0 else 0: \n",
    "Computes and returns the transitivity by dividing the number of triangles by the number of triplets, if triplets is not zero. If triplets are zero, it returns 0 to avoid division by zero.\n",
    "\n",
    "These custom functions provide alternatives to NetworkX's built-in functions for calculating clustering and transitivity. The clustering function computes the clustering coefficient for a given node, the average_clustering function calculates the average clustering coefficient for the entire graph, and the custom_transitivity function computes the transitivity of the graph using basic operations."
   ]
  },
  {
   "cell_type": "code",
   "execution_count": null,
   "metadata": {},
   "outputs": [],
   "source": [
    "def custom_transitivity(G):\n",
    "    triangles = sum(nx.triangles(G, node) for node in G.nodes()) / 3\n",
    "    triplets = sum(d * (d - 1) for n, d in G.degree()) / 2\n",
    "    return triangles / triplets if triplets != 0 else 0\n"
   ]
  },
  {
   "attachments": {},
   "cell_type": "markdown",
   "metadata": {},
   "source": [
    "# Computing Metrics - Average Clustering and Transitivity:\n",
    "\n",
    "This block calculates the average clustering and transitivity using both NetworkX's built-in functions (nx.average_clustering and nx.transitivity) and the custom functions defined in Block 4. The results are stored in variables for later printing.\n"
   ]
  },
  {
   "cell_type": "code",
   "execution_count": null,
   "metadata": {},
   "outputs": [],
   "source": [
    "avg_clustering_nx = nx.average_clustering(G_main)\n",
    "avg_clustering_custom = average_clustering(G_main)\n",
    "transitivity_nx = nx.transitivity(G_main)\n",
    "transitivity_custom = custom_transitivity(G_main)\n"
   ]
  },
  {
   "attachments": {},
   "cell_type": "markdown",
   "metadata": {},
   "source": [
    "# Printing Results:\n",
    "\n",
    "Here, the code prints the computed values for average clustering and transitivity, both from NetworkX and the custom functions. This provides a comparison between the results obtained using NetworkX's built-in functions and the custom implementations."
   ]
  },
  {
   "cell_type": "code",
   "execution_count": null,
   "metadata": {},
   "outputs": [],
   "source": [
    "print(f\"Average Clustering (NetworkX): {avg_clustering_nx}\")\n",
    "print(f\"Average Clustering (Custom): {avg_clustering_custom}\")\n",
    "print(f\"Transitivity (NetworkX): {transitivity_nx}\")\n",
    "print(f\"Transitivity (Custom): {transitivity_custom}\")"
   ]
  },
  {
   "attachments": {},
   "cell_type": "markdown",
   "metadata": {},
   "source": [
    "# Visualization (Optional):\n",
    "\n",
    "This optional block visualizes the largest connected component of the graph using NetworkX's draw function and matplotlib. It generates a plot with node labels and displays it using plt.show().\n",
    "\n",
    "In summary, each block plays a crucial role in the overall process, from data preparation and graph creation to metric computation and visualization. The custom functions enhance the capability to compute network metrics beyond what is directly provided by NetworkX."
   ]
  },
  {
   "cell_type": "code",
   "execution_count": null,
   "metadata": {},
   "outputs": [],
   "source": [
    "nx.draw(G_main, with_labels=True)\n",
    "plt.show()\n"
   ]
  }
 ],
 "metadata": {
  "kernelspec": {
   "display_name": "Python 3",
   "language": "python",
   "name": "python3"
  },
  "language_info": {
   "codemirror_mode": {
    "name": "ipython",
    "version": 3
   },
   "file_extension": ".py",
   "mimetype": "text/x-python",
   "name": "python",
   "nbconvert_exporter": "python",
   "pygments_lexer": "ipython3",
   "version": "3.11.6"
  }
 },
 "nbformat": 4,
 "nbformat_minor": 2
}
