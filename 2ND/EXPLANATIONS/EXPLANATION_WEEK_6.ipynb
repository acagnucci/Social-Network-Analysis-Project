{
 "cells": [
  {
   "cell_type": "markdown",
   "metadata": {},
   "source": [
    "# **Week 6 Code Explanation**\n"
   ]
  },
  {
   "cell_type": "markdown",
   "metadata": {},
   "source": [
    "## **Step 0:** Preprocessing the Grap\n"
   ]
  },
  {
   "cell_type": "code",
   "execution_count": 11,
   "metadata": {},
   "outputs": [],
   "source": [
    "import random\n",
    "import networkx as nx\n",
    "import matplotlib.pyplot as plt\n",
    "import numpy as np\n",
    "import pandas as pd\n",
    "\n",
    "#IMPORTING DATABASE\n",
    "edges_filename = \"edges.csv\"\n",
    "nodes_filename = \"nodes.csv\"\n",
    "\n",
    "df_edges = pd.read_csv(edges_filename)\n",
    "df_nodes = pd.read_csv(nodes_filename)\n",
    "\n",
    "# Create the graph using the edges CSV\n",
    "G = nx.from_pandas_edgelist(df_edges, '# source', ' target')\n",
    "\n",
    "# Ensure the graph is undirected and unweighted\n",
    "G = nx.to_undirected(G)\n",
    "\n",
    "# Remove self-loops\n",
    "if nx.is_frozen(G):\n",
    "    # Unfreeze the graph if it's frozen\n",
    "    G = nx.Graph(G)\n",
    "G.remove_edges_from(nx.selfloop_edges(G))\n",
    "\n",
    "# Keep only the largest connected component\n",
    "largest_cc = max(nx.connected_components(G), key=len)\n",
    "G = G.subgraph(largest_cc).copy()"
   ]
  },
  {
   "cell_type": "markdown",
   "metadata": {},
   "source": [
    "## **Step 1:** Implement Community Detection Techniques"
   ]
  },
  {
   "cell_type": "markdown",
   "metadata": {},
   "source": [
    "### **A** Bridge Removal\n",
    "\n",
    "#### Removing Bridges and Identify Components:\n",
    "First find bridges, remove them, and then find the connected components of the resulting graph."
   ]
  },
  {
   "cell_type": "code",
   "execution_count": 14,
   "metadata": {},
   "outputs": [],
   "source": [
    "G_no_bridges = G.copy()\n",
    "bridges = list(nx.bridges(G_no_bridges))\n",
    "G_no_bridges.remove_edges_from(bridges)\n",
    "components = [G_no_bridges.subgraph(c).copy() for c in nx.connected_components(G_no_bridges)]"
   ]
  },
  {
   "cell_type": "markdown",
   "metadata": {},
   "source": [
    "#### Compute and Select Highest Modularity:\n",
    "Calculate modularity for each component and select the one with the highest modularity."
   ]
  },
  {
   "cell_type": "code",
   "execution_count": 15,
   "metadata": {},
   "outputs": [],
   "source": [
    "modularity_scores = []\n",
    "for comp in components:\n",
    "    community = list(comp.nodes)\n",
    "    other_nodes = set(G.nodes()) - set(community)\n",
    "    partition = [community, list(other_nodes)]\n",
    "    modularity_score = nx.community.modularity(G, partition)\n",
    "    modularity_scores.append(modularity_score)\n",
    "\n",
    "max_modularity_index = modularity_scores.index(max(modularity_scores))\n",
    "best_partition_bridge_removal = components[max_modularity_index]"
   ]
  },
  {
   "cell_type": "markdown",
   "metadata": {},
   "source": [
    "### **B** Modularity Optimization\n",
    "\n",
    "Use the Louvain method for modularity optimization"
   ]
  },
  {
   "cell_type": "code",
   "execution_count": 20,
   "metadata": {},
   "outputs": [
    {
     "ename": "AttributeError",
     "evalue": "module 'community' has no attribute 'best_partition'",
     "output_type": "error",
     "traceback": [
      "\u001b[1;31m---------------------------------------------------------------------------\u001b[0m",
      "\u001b[1;31mAttributeError\u001b[0m                            Traceback (most recent call last)",
      "\u001b[1;32mc:\\Users\\Gianfranco Pizzuto\\OneDrive\\Escritorio\\SNA-Project\\2ND\\EXPLANATIONS\\EXPLANATION_WEEK_6.ipynb Cell 10\u001b[0m line \u001b[0;36m3\n\u001b[0;32m      <a href='vscode-notebook-cell:/c%3A/Users/Gianfranco%20Pizzuto/OneDrive/Escritorio/SNA-Project/2ND/EXPLANATIONS/EXPLANATION_WEEK_6.ipynb#X26sZmlsZQ%3D%3D?line=0'>1</a>\u001b[0m \u001b[39mimport\u001b[39;00m \u001b[39mcommunity\u001b[39;00m \u001b[39mas\u001b[39;00m \u001b[39mcommunity_louvain\u001b[39;00m\n\u001b[1;32m----> <a href='vscode-notebook-cell:/c%3A/Users/Gianfranco%20Pizzuto/OneDrive/Escritorio/SNA-Project/2ND/EXPLANATIONS/EXPLANATION_WEEK_6.ipynb#X26sZmlsZQ%3D%3D?line=2'>3</a>\u001b[0m partition_modularity_optimization \u001b[39m=\u001b[39m community_louvain\u001b[39m.\u001b[39;49mbest_partition(G)\n",
      "\u001b[1;31mAttributeError\u001b[0m: module 'community' has no attribute 'best_partition'"
     ]
    }
   ],
   "source": [
    "import community as community_louvain\n",
    "\n",
    "partition_modularity_optimization = community_louvain.best_partition(G)\n"
   ]
  }
 ],
 "metadata": {
  "kernelspec": {
   "display_name": "Python 3",
   "language": "python",
   "name": "python3"
  },
  "language_info": {
   "codemirror_mode": {
    "name": "ipython",
    "version": 3
   },
   "file_extension": ".py",
   "mimetype": "text/x-python",
   "name": "python",
   "nbconvert_exporter": "python",
   "pygments_lexer": "ipython3",
   "version": "3.11.6"
  }
 },
 "nbformat": 4,
 "nbformat_minor": 2
}
